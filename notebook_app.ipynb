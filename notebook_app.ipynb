{
 "metadata": {
  "kernelspec": {
   "display_name": "Streamlit Notebook",
   "name": "streamlit"
  }
 },
 "nbformat_minor": 5,
 "nbformat": 4,
 "cells": [
  {
   "cell_type": "code",
   "id": "373a3c1d-9456-41a9-89b2-7dce462b7cd4",
   "metadata": {
    "language": "python",
    "name": "cell1",
    "collapsed": false
   },
   "outputs": [],
   "source": "from snowflake.snowpark.session import Session\nfrom snowflake.snowpark.functions import month, year, col,sum\nfrom snowflake.snowpark.version import VERSION\nfrom snowflake.core import Root\nfrom snowflake.core.task import Task, StoredProcedureCall\nimport json \nimport logging \n\nsession = get_active_session()\nprint(session)",
   "execution_count": null
  },
  {
   "cell_type": "code",
   "id": "036f59f9-cd48-417a-89b7-236e92a56f21",
   "metadata": {
    "language": "python",
    "name": "cell2",
    "collapsed": false
   },
   "outputs": [],
   "source": "snow_df_spend = session.table('campaign_spend')\nsnow_df_spend.queries",
   "execution_count": null
  },
  {
   "cell_type": "code",
   "id": "3f2882ee-2136-4b07-bdac-986c24bc469d",
   "metadata": {
    "language": "python",
    "name": "cell3",
    "collapsed": false
   },
   "outputs": [],
   "source": "with session.query_history() as history:\n    snow_df_spend.show(20)\nhistory.queries",
   "execution_count": null
  },
  {
   "cell_type": "code",
   "id": "66404528-9148-43bc-a1b7-064d279b3699",
   "metadata": {
    "language": "python",
    "name": "cell4",
    "collapsed": false
   },
   "outputs": [],
   "source": "snow_df_spend_per_channel = snow_df_spend.group_by(year('DATE'), month('DATE'), 'CHANNEL').agg(sum('TOTAL_COST').as_('TOTAL_COST')).\\\nwith_column_renamed('\"YEAR(DATE)\"', \"YEAR\").with_column_renamed('\"MONTH(DATE)\"', \"MONTH\").sort('YEAR','MONTH')\n\nsnow_df_spend_per_channel.show(10)",
   "execution_count": null
  },
  {
   "cell_type": "code",
   "id": "9d67a05b-cb4d-46b4-aa06-c871124a5d88",
   "metadata": {
    "language": "python",
    "name": "cell5",
    "collapsed": false
   },
   "outputs": [],
   "source": "snow_df_spend_per_month = snow_df_spend_per_channel.pivot('CHANNEL', ['search_engine', 'social_media','video','email']).sum('TOTAL_COST').sort('YEAR','MONTH')\nsnow_df_spend_per_month = snow_df_spend_per_month.select(\n    col(\"YEAR\"),\n    col(\"MONTH\"),\n    col(\"'search_engine'\").as_(\"SEARCH_ENGINE\"),\n    col(\"'social_media'\").as_(\"SOCIAL_MEDIA\"),\n    col(\"'video'\").as_(\"VIDEO\"),\n    col(\"'email'\").as_(\"EMAIL\")\n)\nsnow_df_spend_per_month.show()",
   "execution_count": null
  },
  {
   "cell_type": "code",
   "id": "cabfe03b-0c81-498d-8721-e7f3b2a23c11",
   "metadata": {
    "language": "python",
    "name": "cell6",
    "collapsed": false
   },
   "outputs": [],
   "source": "snow_df_spend_per_month.write.mode('overwrite').save_as_table('SPEND_PER_MONTH')",
   "execution_count": null
  },
  {
   "cell_type": "code",
   "id": "d8c16889-f0cd-4fbc-9f38-cb24ada18047",
   "metadata": {
    "language": "python",
    "name": "cell7"
   },
   "outputs": [],
   "source": "",
   "execution_count": null
  }
 ]
}